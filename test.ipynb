{
 "cells": [
  {
   "cell_type": "code",
   "execution_count": 1,
   "id": "070aefdd",
   "metadata": {},
   "outputs": [
    {
     "name": "stderr",
     "output_type": "stream",
     "text": [
      "You have video processor config saved in `preprocessor.json` file which is deprecated. Video processor configs should be saved in their own `video_preprocessor.json` file. You can rename the file or load and save the processor back which renames it automatically. Loading from `preprocessor.json` will be removed in v5.0.\n"
     ]
    }
   ],
   "source": [
    "from transformers import Qwen2_5OmniProcessor\n",
    "model_id = \"Qwen/Qwen2.5-Omni-3B\"\n",
    "\n",
    "processor = Qwen2_5OmniProcessor.from_pretrained(model_id)"
   ]
  },
  {
   "cell_type": "code",
   "execution_count": 3,
   "id": "8259194b",
   "metadata": {},
   "outputs": [
    {
     "data": {
      "text/plain": [
       "\"<|im_start|>system\\nYou are Qwen, a virtual human developed by the Qwen Team, Alibaba Group, capable of perceiving auditory and visual inputs, as well as generating text and speech.<|im_end|>\\n<|im_start|>user\\nWhat is the first occurence of the word 'pretty'?<|audio_bos|><|AUDIO|><|AUDIO|><|AUDIO|><|AUDIO|><|AUDIO|><|AUDIO|><|AUDIO|><|AUDIO|><|AUDIO|><|AUDIO|><|AUDIO|><|AUDIO|><|AUDIO|><|AUDIO|><|AUDIO|><|AUDIO|><|AUDIO|><|AUDIO|><|AUDIO|><|AUDIO|><|AUDIO|><|AUDIO|><|AUDIO|><|AUDIO|><|AUDIO|><|AUDIO|><|AUDIO|><|AUDIO|><|AUDIO|><|AUDIO|><|AUDIO|><|AUDIO|><|AUDIO|><|AUDIO|><|AUDIO|><|AUDIO|><|AUDIO|><|AUDIO|><|AUDIO|><|AUDIO|><|AUDIO|><|AUDIO|><|AUDIO|><|AUDIO|><|AUDIO|><|AUDIO|><|AUDIO|><|AUDIO|><|AUDIO|><|AUDIO|><|AUDIO|><|AUDIO|><|AUDIO|><|AUDIO|><|AUDIO|><|AUDIO|><|AUDIO|><|AUDIO|><|AUDIO|><|AUDIO|><|AUDIO|><|AUDIO|><|AUDIO|><|AUDIO|><|AUDIO|><|AUDIO|><|AUDIO|><|AUDIO|><|AUDIO|><|AUDIO|><|AUDIO|><|AUDIO|><|AUDIO|><|AUDIO|><|AUDIO|><|AUDIO|><|AUDIO|><|AUDIO|><|AUDIO|><|AUDIO|><|AUDIO|><|AUDIO|><|AUDIO|><|AUDIO|><|AUDIO|><|AUDIO|><|AUDIO|><|AUDIO|><|AUDIO|><|AUDIO|><|AUDIO|><|AUDIO|><|AUDIO|><|AUDIO|><|AUDIO|><|AUDIO|><|AUDIO|><|AUDIO|><|AUDIO|><|AUDIO|><|AUDIO|><|AUDIO|><|AUDIO|><|AUDIO|><|AUDIO|><|AUDIO|><|AUDIO|><|AUDIO|><|AUDIO|><|AUDIO|><|AUDIO|><|AUDIO|><|AUDIO|><|AUDIO|><|AUDIO|><|AUDIO|><|AUDIO|><|AUDIO|><|AUDIO|><|AUDIO|><|AUDIO|><|AUDIO|><|AUDIO|><|AUDIO|><|AUDIO|><|AUDIO|><|audio_eos|><|im_end|>\\n<|im_start|>assistant\""
      ]
     },
     "execution_count": 3,
     "metadata": {},
     "output_type": "execute_result"
    }
   ],
   "source": [
    "processor.tokenizer.decode([151644,   8948,    198,   2610,    525,   1207,  16948,     11,    264,4108,   3738,   7881,    553,    279,   1207,  16948,   7909,     11,54364,   5737,     11,  12875,    315,    817,  46344,  82529,    323,9124,  11127,     11,    438,   1632,    438,  23163,   1467,    323,8806,     13, 151645,    198, 151644,    872,    198,   3838,    374,279,   1156,   2983,  86937,    315,    279,   3409,    364,  32955,69990, 151647, 151646, 151646, 151646, 151646, 151646, 151646, 151646,151646, 151646, 151646, 151646, 151646, 151646, 151646, 151646, 151646,151646, 151646, 151646, 151646, 151646, 151646, 151646, 151646, 151646,151646, 151646, 151646, 151646, 151646, 151646, 151646, 151646, 151646,151646, 151646, 151646, 151646, 151646, 151646, 151646, 151646, 151646,151646, 151646, 151646, 151646, 151646, 151646, 151646, 151646, 151646,151646, 151646, 151646, 151646, 151646, 151646, 151646, 151646, 151646,151646, 151646, 151646, 151646, 151646, 151646, 151646, 151646, 151646,151646, 151646, 151646, 151646, 151646, 151646, 151646, 151646, 151646,151646, 151646, 151646, 151646, 151646, 151646, 151646, 151646, 151646,151646, 151646, 151646, 151646, 151646, 151646, 151646, 151646, 151646,151646, 151646, 151646, 151646, 151646, 151646, 151646, 151646, 151646,151646, 151646, 151646, 151646, 151646, 151646, 151646, 151646, 151646,151646, 151646, 151646, 151646, 151646, 151646, 151646, 151646, 151646,151646, 151646, 151648, 151645,    198, 151644,  77091])"
   ]
  }
 ],
 "metadata": {
  "kernelspec": {
   "display_name": "taudio",
   "language": "python",
   "name": "python3"
  },
  "language_info": {
   "codemirror_mode": {
    "name": "ipython",
    "version": 3
   },
   "file_extension": ".py",
   "mimetype": "text/x-python",
   "name": "python",
   "nbconvert_exporter": "python",
   "pygments_lexer": "ipython3",
   "version": "3.12.11"
  }
 },
 "nbformat": 4,
 "nbformat_minor": 5
}
